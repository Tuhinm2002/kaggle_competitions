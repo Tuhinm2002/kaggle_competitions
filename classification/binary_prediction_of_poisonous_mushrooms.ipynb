{
  "metadata": {
    "kernelspec": {
      "language": "python",
      "display_name": "Python 3",
      "name": "python3"
    },
    "language_info": {
      "name": "python",
      "version": "3.10.13",
      "mimetype": "text/x-python",
      "codemirror_mode": {
        "name": "ipython",
        "version": 3
      },
      "pygments_lexer": "ipython3",
      "nbconvert_exporter": "python",
      "file_extension": ".py"
    },
    "kaggle": {
      "accelerator": "none",
      "dataSources": [
        {
          "sourceId": 76727,
          "databundleVersionId": 9045607,
          "sourceType": "competition"
        }
      ],
      "dockerImageVersionId": 30746,
      "isInternetEnabled": true,
      "language": "python",
      "sourceType": "notebook",
      "isGpuEnabled": false
    },
    "colab": {
      "provenance": [],
      "include_colab_link": true
    }
  },
  "nbformat_minor": 0,
  "nbformat": 4,
  "cells": [
    {
      "cell_type": "markdown",
      "metadata": {
        "id": "view-in-github",
        "colab_type": "text"
      },
      "source": [
        "<a href=\"https://colab.research.google.com/github/Tuhinm2002/kaggle_competitions/blob/main/classification/binary_prediction_of_poisonous_mushrooms.ipynb\" target=\"_parent\"><img src=\"https://colab.research.google.com/assets/colab-badge.svg\" alt=\"Open In Colab\"/></a>"
      ]
    },
    {
      "cell_type": "code",
      "source": [
        "# This Python 3 environment comes with many helpful analytics libraries installed\n",
        "# It is defined by the kaggle/python Docker image: https://github.com/kaggle/docker-python\n",
        "# For example, here's several helpful packages to load\n",
        "\n",
        "import numpy as np # linear algebra\n",
        "import pandas as pd # data processing, CSV file I/O (e.g. pd.read_csv)\n",
        "\n",
        "# Input data files are available in the read-only \"../input/\" directory\n",
        "# For example, running this (by clicking run or pressing Shift+Enter) will list all files under the input directory\n",
        "\n",
        "import os\n",
        "for dirname, _, filenames in os.walk('/kaggle/input'):\n",
        "    for filename in filenames:\n",
        "        print(os.path.join(dirname, filename))\n",
        "\n",
        "# You can write up to 20GB to the current directory (/kaggle/working/) that gets preserved as output when you create a version using \"Save & Run All\"\n",
        "# You can also write temporary files to /kaggle/temp/, but they won't be saved outside of the current session"
      ],
      "metadata": {
        "_uuid": "8f2839f25d086af736a60e9eeb907d3b93b6e0e5",
        "_cell_guid": "b1076dfc-b9ad-4769-8c92-a6c4dae69d19",
        "execution": {
          "iopub.status.busy": "2024-08-14T17:16:38.905222Z",
          "iopub.execute_input": "2024-08-14T17:16:38.905626Z",
          "iopub.status.idle": "2024-08-14T17:16:39.336055Z",
          "shell.execute_reply.started": "2024-08-14T17:16:38.905592Z",
          "shell.execute_reply": "2024-08-14T17:16:39.334958Z"
        },
        "trusted": true,
        "id": "YZm24pK1xfvp",
        "outputId": "e18a8c59-251b-4fc8-f5f9-aa1f282f8bc5"
      },
      "execution_count": null,
      "outputs": [
        {
          "name": "stdout",
          "text": "/kaggle/input/playground-series-s4e8/sample_submission.csv\n/kaggle/input/playground-series-s4e8/train.csv\n/kaggle/input/playground-series-s4e8/test.csv\n",
          "output_type": "stream"
        }
      ]
    },
    {
      "cell_type": "code",
      "source": [
        "sample_data = pd.read_csv(\"/kaggle/input/playground-series-s4e8/sample_submission.csv\")\n",
        "train_data = pd.read_csv(\"/kaggle/input/playground-series-s4e8/train.csv\")\n",
        "test_data = pd.read_csv(\"/kaggle/input/playground-series-s4e8/test.csv\")"
      ],
      "metadata": {
        "execution": {
          "iopub.status.busy": "2024-08-14T17:16:39.338219Z",
          "iopub.execute_input": "2024-08-14T17:16:39.338757Z",
          "iopub.status.idle": "2024-08-14T17:16:56.994183Z",
          "shell.execute_reply.started": "2024-08-14T17:16:39.338719Z",
          "shell.execute_reply": "2024-08-14T17:16:56.993077Z"
        },
        "trusted": true,
        "id": "l1P09U4Bxfvu"
      },
      "execution_count": null,
      "outputs": []
    },
    {
      "cell_type": "code",
      "source": [
        "import tensorflow as tf\n",
        "from tensorflow.keras.models import Sequential,Model\n",
        "from tensorflow.keras.optimizers import SGD,AdamW\n",
        "from tensorflow.keras.layers import Layer,Dense,BatchNormalization,Input,Flatten\n",
        "from tensorflow.keras.losses import Loss,MSE\n",
        "\n",
        "from sklearn.preprocessing import LabelEncoder\n",
        "from sklearn.model_selection import train_test_split\n",
        "from sklearn.metrics import matthews_corrcoef"
      ],
      "metadata": {
        "execution": {
          "iopub.status.busy": "2024-08-14T17:16:56.995520Z",
          "iopub.execute_input": "2024-08-14T17:16:56.995877Z",
          "iopub.status.idle": "2024-08-14T17:17:11.938255Z",
          "shell.execute_reply.started": "2024-08-14T17:16:56.995846Z",
          "shell.execute_reply": "2024-08-14T17:17:11.937197Z"
        },
        "trusted": true,
        "id": "Z30beMLbxfvu",
        "outputId": "c90bb701-638d-48c7-c0fe-08639a166462"
      },
      "execution_count": null,
      "outputs": [
        {
          "name": "stderr",
          "text": "2024-08-14 17:16:59.271883: E external/local_xla/xla/stream_executor/cuda/cuda_dnn.cc:9261] Unable to register cuDNN factory: Attempting to register factory for plugin cuDNN when one has already been registered\n2024-08-14 17:16:59.272045: E external/local_xla/xla/stream_executor/cuda/cuda_fft.cc:607] Unable to register cuFFT factory: Attempting to register factory for plugin cuFFT when one has already been registered\n2024-08-14 17:16:59.435740: E external/local_xla/xla/stream_executor/cuda/cuda_blas.cc:1515] Unable to register cuBLAS factory: Attempting to register factory for plugin cuBLAS when one has already been registered\n",
          "output_type": "stream"
        }
      ]
    },
    {
      "cell_type": "code",
      "source": [
        "train_data.head()"
      ],
      "metadata": {
        "execution": {
          "iopub.status.busy": "2024-08-14T17:17:11.940667Z",
          "iopub.execute_input": "2024-08-14T17:17:11.941282Z",
          "iopub.status.idle": "2024-08-14T17:17:11.980574Z",
          "shell.execute_reply.started": "2024-08-14T17:17:11.941251Z",
          "shell.execute_reply": "2024-08-14T17:17:11.979510Z"
        },
        "trusted": true,
        "id": "tSfCX6A7xfvw",
        "outputId": "1bf32e48-9a79-4f25-a703-28c5e732080a"
      },
      "execution_count": null,
      "outputs": [
        {
          "execution_count": 4,
          "output_type": "execute_result",
          "data": {
            "text/plain": "   id class  cap-diameter cap-shape cap-surface cap-color  \\\n0   0     e          8.80         f           s         u   \n1   1     p          4.51         x           h         o   \n2   2     e          6.94         f           s         b   \n3   3     e          3.88         f           y         g   \n4   4     e          5.85         x           l         w   \n\n  does-bruise-or-bleed gill-attachment gill-spacing gill-color  ...  \\\n0                    f               a            c          w  ...   \n1                    f               a            c          n  ...   \n2                    f               x            c          w  ...   \n3                    f               s          NaN          g  ...   \n4                    f               d          NaN          w  ...   \n\n   stem-root  stem-surface stem-color veil-type veil-color has-ring ring-type  \\\n0        NaN           NaN          w       NaN        NaN        f         f   \n1        NaN             y          o       NaN        NaN        t         z   \n2        NaN             s          n       NaN        NaN        f         f   \n3        NaN           NaN          w       NaN        NaN        f         f   \n4        NaN           NaN          w       NaN        NaN        f         f   \n\n  spore-print-color habitat season  \n0               NaN       d      a  \n1               NaN       d      w  \n2               NaN       l      w  \n3               NaN       d      u  \n4               NaN       g      a  \n\n[5 rows x 22 columns]",
            "text/html": "<div>\n<style scoped>\n    .dataframe tbody tr th:only-of-type {\n        vertical-align: middle;\n    }\n\n    .dataframe tbody tr th {\n        vertical-align: top;\n    }\n\n    .dataframe thead th {\n        text-align: right;\n    }\n</style>\n<table border=\"1\" class=\"dataframe\">\n  <thead>\n    <tr style=\"text-align: right;\">\n      <th></th>\n      <th>id</th>\n      <th>class</th>\n      <th>cap-diameter</th>\n      <th>cap-shape</th>\n      <th>cap-surface</th>\n      <th>cap-color</th>\n      <th>does-bruise-or-bleed</th>\n      <th>gill-attachment</th>\n      <th>gill-spacing</th>\n      <th>gill-color</th>\n      <th>...</th>\n      <th>stem-root</th>\n      <th>stem-surface</th>\n      <th>stem-color</th>\n      <th>veil-type</th>\n      <th>veil-color</th>\n      <th>has-ring</th>\n      <th>ring-type</th>\n      <th>spore-print-color</th>\n      <th>habitat</th>\n      <th>season</th>\n    </tr>\n  </thead>\n  <tbody>\n    <tr>\n      <th>0</th>\n      <td>0</td>\n      <td>e</td>\n      <td>8.80</td>\n      <td>f</td>\n      <td>s</td>\n      <td>u</td>\n      <td>f</td>\n      <td>a</td>\n      <td>c</td>\n      <td>w</td>\n      <td>...</td>\n      <td>NaN</td>\n      <td>NaN</td>\n      <td>w</td>\n      <td>NaN</td>\n      <td>NaN</td>\n      <td>f</td>\n      <td>f</td>\n      <td>NaN</td>\n      <td>d</td>\n      <td>a</td>\n    </tr>\n    <tr>\n      <th>1</th>\n      <td>1</td>\n      <td>p</td>\n      <td>4.51</td>\n      <td>x</td>\n      <td>h</td>\n      <td>o</td>\n      <td>f</td>\n      <td>a</td>\n      <td>c</td>\n      <td>n</td>\n      <td>...</td>\n      <td>NaN</td>\n      <td>y</td>\n      <td>o</td>\n      <td>NaN</td>\n      <td>NaN</td>\n      <td>t</td>\n      <td>z</td>\n      <td>NaN</td>\n      <td>d</td>\n      <td>w</td>\n    </tr>\n    <tr>\n      <th>2</th>\n      <td>2</td>\n      <td>e</td>\n      <td>6.94</td>\n      <td>f</td>\n      <td>s</td>\n      <td>b</td>\n      <td>f</td>\n      <td>x</td>\n      <td>c</td>\n      <td>w</td>\n      <td>...</td>\n      <td>NaN</td>\n      <td>s</td>\n      <td>n</td>\n      <td>NaN</td>\n      <td>NaN</td>\n      <td>f</td>\n      <td>f</td>\n      <td>NaN</td>\n      <td>l</td>\n      <td>w</td>\n    </tr>\n    <tr>\n      <th>3</th>\n      <td>3</td>\n      <td>e</td>\n      <td>3.88</td>\n      <td>f</td>\n      <td>y</td>\n      <td>g</td>\n      <td>f</td>\n      <td>s</td>\n      <td>NaN</td>\n      <td>g</td>\n      <td>...</td>\n      <td>NaN</td>\n      <td>NaN</td>\n      <td>w</td>\n      <td>NaN</td>\n      <td>NaN</td>\n      <td>f</td>\n      <td>f</td>\n      <td>NaN</td>\n      <td>d</td>\n      <td>u</td>\n    </tr>\n    <tr>\n      <th>4</th>\n      <td>4</td>\n      <td>e</td>\n      <td>5.85</td>\n      <td>x</td>\n      <td>l</td>\n      <td>w</td>\n      <td>f</td>\n      <td>d</td>\n      <td>NaN</td>\n      <td>w</td>\n      <td>...</td>\n      <td>NaN</td>\n      <td>NaN</td>\n      <td>w</td>\n      <td>NaN</td>\n      <td>NaN</td>\n      <td>f</td>\n      <td>f</td>\n      <td>NaN</td>\n      <td>g</td>\n      <td>a</td>\n    </tr>\n  </tbody>\n</table>\n<p>5 rows × 22 columns</p>\n</div>"
          },
          "metadata": {}
        }
      ]
    },
    {
      "cell_type": "code",
      "source": [
        "test_data.head()"
      ],
      "metadata": {
        "execution": {
          "iopub.status.busy": "2024-08-14T17:17:11.981917Z",
          "iopub.execute_input": "2024-08-14T17:17:11.982412Z",
          "iopub.status.idle": "2024-08-14T17:17:12.085612Z",
          "shell.execute_reply.started": "2024-08-14T17:17:11.982379Z",
          "shell.execute_reply": "2024-08-14T17:17:12.084179Z"
        },
        "trusted": true,
        "id": "vJwsx5V4xfvx",
        "outputId": "162be9c9-36df-457a-fb4b-24365bb4b3ea"
      },
      "execution_count": null,
      "outputs": [
        {
          "execution_count": 5,
          "output_type": "execute_result",
          "data": {
            "text/plain": "        id  cap-diameter cap-shape cap-surface cap-color does-bruise-or-bleed  \\\n0  3116945          8.64         x         NaN         n                    t   \n1  3116946          6.90         o           t         o                    f   \n2  3116947          2.00         b           g         n                    f   \n3  3116948          3.47         x           t         n                    f   \n4  3116949          6.17         x           h         y                    f   \n\n  gill-attachment gill-spacing gill-color  stem-height  ...  stem-root  \\\n0             NaN          NaN          w        11.13  ...          b   \n1             NaN            c          y         1.27  ...        NaN   \n2             NaN            c          n         6.18  ...        NaN   \n3               s            c          n         4.98  ...        NaN   \n4               p          NaN          y         6.73  ...        NaN   \n\n  stem-surface stem-color veil-type veil-color has-ring ring-type  \\\n0          NaN          w         u          w        t         g   \n1          NaN          n       NaN        NaN        f         f   \n2          NaN          n       NaN        NaN        f         f   \n3          NaN          w       NaN          n        t         z   \n4          NaN          y       NaN          y        t       NaN   \n\n  spore-print-color habitat season  \n0               NaN       d      a  \n1               NaN       d      a  \n2               NaN       d      s  \n3               NaN       d      u  \n4               NaN       d      u  \n\n[5 rows x 21 columns]",
            "text/html": "<div>\n<style scoped>\n    .dataframe tbody tr th:only-of-type {\n        vertical-align: middle;\n    }\n\n    .dataframe tbody tr th {\n        vertical-align: top;\n    }\n\n    .dataframe thead th {\n        text-align: right;\n    }\n</style>\n<table border=\"1\" class=\"dataframe\">\n  <thead>\n    <tr style=\"text-align: right;\">\n      <th></th>\n      <th>id</th>\n      <th>cap-diameter</th>\n      <th>cap-shape</th>\n      <th>cap-surface</th>\n      <th>cap-color</th>\n      <th>does-bruise-or-bleed</th>\n      <th>gill-attachment</th>\n      <th>gill-spacing</th>\n      <th>gill-color</th>\n      <th>stem-height</th>\n      <th>...</th>\n      <th>stem-root</th>\n      <th>stem-surface</th>\n      <th>stem-color</th>\n      <th>veil-type</th>\n      <th>veil-color</th>\n      <th>has-ring</th>\n      <th>ring-type</th>\n      <th>spore-print-color</th>\n      <th>habitat</th>\n      <th>season</th>\n    </tr>\n  </thead>\n  <tbody>\n    <tr>\n      <th>0</th>\n      <td>3116945</td>\n      <td>8.64</td>\n      <td>x</td>\n      <td>NaN</td>\n      <td>n</td>\n      <td>t</td>\n      <td>NaN</td>\n      <td>NaN</td>\n      <td>w</td>\n      <td>11.13</td>\n      <td>...</td>\n      <td>b</td>\n      <td>NaN</td>\n      <td>w</td>\n      <td>u</td>\n      <td>w</td>\n      <td>t</td>\n      <td>g</td>\n      <td>NaN</td>\n      <td>d</td>\n      <td>a</td>\n    </tr>\n    <tr>\n      <th>1</th>\n      <td>3116946</td>\n      <td>6.90</td>\n      <td>o</td>\n      <td>t</td>\n      <td>o</td>\n      <td>f</td>\n      <td>NaN</td>\n      <td>c</td>\n      <td>y</td>\n      <td>1.27</td>\n      <td>...</td>\n      <td>NaN</td>\n      <td>NaN</td>\n      <td>n</td>\n      <td>NaN</td>\n      <td>NaN</td>\n      <td>f</td>\n      <td>f</td>\n      <td>NaN</td>\n      <td>d</td>\n      <td>a</td>\n    </tr>\n    <tr>\n      <th>2</th>\n      <td>3116947</td>\n      <td>2.00</td>\n      <td>b</td>\n      <td>g</td>\n      <td>n</td>\n      <td>f</td>\n      <td>NaN</td>\n      <td>c</td>\n      <td>n</td>\n      <td>6.18</td>\n      <td>...</td>\n      <td>NaN</td>\n      <td>NaN</td>\n      <td>n</td>\n      <td>NaN</td>\n      <td>NaN</td>\n      <td>f</td>\n      <td>f</td>\n      <td>NaN</td>\n      <td>d</td>\n      <td>s</td>\n    </tr>\n    <tr>\n      <th>3</th>\n      <td>3116948</td>\n      <td>3.47</td>\n      <td>x</td>\n      <td>t</td>\n      <td>n</td>\n      <td>f</td>\n      <td>s</td>\n      <td>c</td>\n      <td>n</td>\n      <td>4.98</td>\n      <td>...</td>\n      <td>NaN</td>\n      <td>NaN</td>\n      <td>w</td>\n      <td>NaN</td>\n      <td>n</td>\n      <td>t</td>\n      <td>z</td>\n      <td>NaN</td>\n      <td>d</td>\n      <td>u</td>\n    </tr>\n    <tr>\n      <th>4</th>\n      <td>3116949</td>\n      <td>6.17</td>\n      <td>x</td>\n      <td>h</td>\n      <td>y</td>\n      <td>f</td>\n      <td>p</td>\n      <td>NaN</td>\n      <td>y</td>\n      <td>6.73</td>\n      <td>...</td>\n      <td>NaN</td>\n      <td>NaN</td>\n      <td>y</td>\n      <td>NaN</td>\n      <td>y</td>\n      <td>t</td>\n      <td>NaN</td>\n      <td>NaN</td>\n      <td>d</td>\n      <td>u</td>\n    </tr>\n  </tbody>\n</table>\n<p>5 rows × 21 columns</p>\n</div>"
          },
          "metadata": {}
        }
      ]
    },
    {
      "cell_type": "code",
      "source": [
        "train_data.isna().sum()"
      ],
      "metadata": {
        "execution": {
          "iopub.status.busy": "2024-08-14T17:17:12.086952Z",
          "iopub.execute_input": "2024-08-14T17:17:12.087354Z",
          "iopub.status.idle": "2024-08-14T17:17:14.463499Z",
          "shell.execute_reply.started": "2024-08-14T17:17:12.087324Z",
          "shell.execute_reply": "2024-08-14T17:17:14.462296Z"
        },
        "trusted": true,
        "id": "FuLHN5x2xfvx",
        "outputId": "f4fe195d-a16f-4427-fd49-9aaaa0c293b3"
      },
      "execution_count": null,
      "outputs": [
        {
          "execution_count": 6,
          "output_type": "execute_result",
          "data": {
            "text/plain": "id                            0\nclass                         0\ncap-diameter                  4\ncap-shape                    40\ncap-surface              671023\ncap-color                    12\ndoes-bruise-or-bleed          8\ngill-attachment          523936\ngill-spacing            1258435\ngill-color                   57\nstem-height                   0\nstem-width                    0\nstem-root               2757023\nstem-surface            1980861\nstem-color                   38\nveil-type               2957493\nveil-color              2740947\nhas-ring                     24\nring-type                128880\nspore-print-color       2849682\nhabitat                      45\nseason                        0\ndtype: int64"
          },
          "metadata": {}
        }
      ]
    },
    {
      "cell_type": "code",
      "source": [
        "len(train_data) - 128880"
      ],
      "metadata": {
        "execution": {
          "iopub.status.busy": "2024-08-14T17:17:14.464836Z",
          "iopub.execute_input": "2024-08-14T17:17:14.465220Z",
          "iopub.status.idle": "2024-08-14T17:17:14.472066Z",
          "shell.execute_reply.started": "2024-08-14T17:17:14.465188Z",
          "shell.execute_reply": "2024-08-14T17:17:14.470981Z"
        },
        "trusted": true,
        "id": "iHWTjQsixfvy",
        "outputId": "84c0e507-99af-44d6-fcea-333a285e7c5a"
      },
      "execution_count": null,
      "outputs": [
        {
          "execution_count": 7,
          "output_type": "execute_result",
          "data": {
            "text/plain": "2988065"
          },
          "metadata": {}
        }
      ]
    },
    {
      "cell_type": "code",
      "source": [
        "le = LabelEncoder()"
      ],
      "metadata": {
        "execution": {
          "iopub.status.busy": "2024-08-14T17:17:14.473958Z",
          "iopub.execute_input": "2024-08-14T17:17:14.474711Z",
          "iopub.status.idle": "2024-08-14T17:17:14.483142Z",
          "shell.execute_reply.started": "2024-08-14T17:17:14.474671Z",
          "shell.execute_reply": "2024-08-14T17:17:14.482068Z"
        },
        "trusted": true,
        "id": "wAIqDe-Vxfvy"
      },
      "execution_count": null,
      "outputs": []
    },
    {
      "cell_type": "code",
      "source": [
        "le.fit_transform(train_data['ring-type'])"
      ],
      "metadata": {
        "execution": {
          "iopub.status.busy": "2024-08-14T17:17:14.484982Z",
          "iopub.execute_input": "2024-08-14T17:17:14.485445Z",
          "iopub.status.idle": "2024-08-14T17:17:15.046509Z",
          "shell.execute_reply.started": "2024-08-14T17:17:14.485407Z",
          "shell.execute_reply": "2024-08-14T17:17:15.045333Z"
        },
        "trusted": true,
        "id": "0MswCRn_xfvz",
        "outputId": "97eb8da5-95fc-4a0b-a8f8-719e8e3311f0"
      },
      "execution_count": null,
      "outputs": [
        {
          "execution_count": 9,
          "output_type": "execute_result",
          "data": {
            "text/plain": "array([18, 39, 18, ..., 39, 27, 18])"
          },
          "metadata": {}
        }
      ]
    },
    {
      "cell_type": "code",
      "source": [
        "def encode_val(val):\n",
        "    try :\n",
        "        return float(val)\n",
        "    except :\n",
        "        return val\n",
        "\n",
        "for x_col1 in train_data.drop(columns=['id']).columns:\n",
        "    train_data[x_col1] = train_data[x_col1].apply(lambda x: encode_val(x))\n",
        "\n",
        "for x_col2 in test_data.drop(columns=['id']).columns:\n",
        "    test_data[x_col2] = test_data[x_col2].apply(lambda x: encode_val(x))"
      ],
      "metadata": {
        "execution": {
          "iopub.status.busy": "2024-08-14T17:17:15.050424Z",
          "iopub.execute_input": "2024-08-14T17:17:15.051261Z",
          "iopub.status.idle": "2024-08-14T17:18:29.135235Z",
          "shell.execute_reply.started": "2024-08-14T17:17:15.051221Z",
          "shell.execute_reply": "2024-08-14T17:18:29.133955Z"
        },
        "trusted": true,
        "id": "xUXLPG7Rxfv0"
      },
      "execution_count": null,
      "outputs": []
    },
    {
      "cell_type": "code",
      "source": [
        "train_data.columns"
      ],
      "metadata": {
        "execution": {
          "iopub.status.busy": "2024-08-14T17:18:29.136526Z",
          "iopub.execute_input": "2024-08-14T17:18:29.136947Z",
          "iopub.status.idle": "2024-08-14T17:18:29.144716Z",
          "shell.execute_reply.started": "2024-08-14T17:18:29.136918Z",
          "shell.execute_reply": "2024-08-14T17:18:29.143363Z"
        },
        "trusted": true,
        "id": "gzOEYcltxfv1",
        "outputId": "1453ce21-e18d-49d2-be0d-2cc31d3c7dd5"
      },
      "execution_count": null,
      "outputs": [
        {
          "execution_count": 11,
          "output_type": "execute_result",
          "data": {
            "text/plain": "Index(['id', 'class', 'cap-diameter', 'cap-shape', 'cap-surface', 'cap-color',\n       'does-bruise-or-bleed', 'gill-attachment', 'gill-spacing', 'gill-color',\n       'stem-height', 'stem-width', 'stem-root', 'stem-surface', 'stem-color',\n       'veil-type', 'veil-color', 'has-ring', 'ring-type', 'spore-print-color',\n       'habitat', 'season'],\n      dtype='object')"
          },
          "metadata": {}
        }
      ]
    },
    {
      "cell_type": "code",
      "source": [
        "print(train_data['cap-shape'].mode())\n",
        "print(train_data['cap-shape'].mode()[0])"
      ],
      "metadata": {
        "execution": {
          "iopub.status.busy": "2024-08-14T17:18:29.146225Z",
          "iopub.execute_input": "2024-08-14T17:18:29.146583Z",
          "iopub.status.idle": "2024-08-14T17:18:29.483102Z",
          "shell.execute_reply.started": "2024-08-14T17:18:29.146553Z",
          "shell.execute_reply": "2024-08-14T17:18:29.482032Z"
        },
        "trusted": true,
        "id": "W8y7jnCRxfv2",
        "outputId": "930c1043-6b9d-43c7-bfaf-89d879e02e21"
      },
      "execution_count": null,
      "outputs": [
        {
          "name": "stdout",
          "text": "0    x\nName: cap-shape, dtype: object\nx\n",
          "output_type": "stream"
        }
      ]
    },
    {
      "cell_type": "code",
      "source": [
        "def fix_missing(data,col):\n",
        "    if data[col].dtypes == 'float64' or data[col].dtypes == 'int64':\n",
        "        return data[col].fillna(data[col].mean(),inplace=True)\n",
        "    else:\n",
        "        return data[col].fillna(data[col].mode()[0],inplace=True)\n",
        "\n",
        "for x_col1 in train_data.drop(columns=['id','class']).columns:\n",
        "    fix_missing(train_data,x_col1)\n",
        "\n",
        "for x_col2 in test_data.drop(columns=['id']).columns:\n",
        "    fix_missing(test_data,x_col2)"
      ],
      "metadata": {
        "execution": {
          "iopub.status.busy": "2024-08-14T17:18:29.484446Z",
          "iopub.execute_input": "2024-08-14T17:18:29.484773Z",
          "iopub.status.idle": "2024-08-14T17:18:40.390945Z",
          "shell.execute_reply.started": "2024-08-14T17:18:29.484746Z",
          "shell.execute_reply": "2024-08-14T17:18:40.389737Z"
        },
        "trusted": true,
        "id": "D2LLtfQ6xfv2",
        "outputId": "a91baf56-72ec-466a-80cb-f20aec9a714c"
      },
      "execution_count": null,
      "outputs": [
        {
          "name": "stderr",
          "text": "/tmp/ipykernel_33/3088943262.py:3: FutureWarning: A value is trying to be set on a copy of a DataFrame or Series through chained assignment using an inplace method.\nThe behavior will change in pandas 3.0. This inplace method will never work because the intermediate object on which we are setting values always behaves as a copy.\n\nFor example, when doing 'df[col].method(value, inplace=True)', try using 'df.method({col: value}, inplace=True)' or df[col] = df[col].method(value) instead, to perform the operation inplace on the original object.\n\n\n  return data[col].fillna(data[col].mean(),inplace=True)\n/tmp/ipykernel_33/3088943262.py:5: FutureWarning: A value is trying to be set on a copy of a DataFrame or Series through chained assignment using an inplace method.\nThe behavior will change in pandas 3.0. This inplace method will never work because the intermediate object on which we are setting values always behaves as a copy.\n\nFor example, when doing 'df[col].method(value, inplace=True)', try using 'df.method({col: value}, inplace=True)' or df[col] = df[col].method(value) instead, to perform the operation inplace on the original object.\n\n\n  return data[col].fillna(data[col].mode()[0],inplace=True)\n/tmp/ipykernel_33/3088943262.py:3: FutureWarning: A value is trying to be set on a copy of a DataFrame or Series through chained assignment using an inplace method.\nThe behavior will change in pandas 3.0. This inplace method will never work because the intermediate object on which we are setting values always behaves as a copy.\n\nFor example, when doing 'df[col].method(value, inplace=True)', try using 'df.method({col: value}, inplace=True)' or df[col] = df[col].method(value) instead, to perform the operation inplace on the original object.\n\n\n  return data[col].fillna(data[col].mean(),inplace=True)\n/tmp/ipykernel_33/3088943262.py:5: FutureWarning: A value is trying to be set on a copy of a DataFrame or Series through chained assignment using an inplace method.\nThe behavior will change in pandas 3.0. This inplace method will never work because the intermediate object on which we are setting values always behaves as a copy.\n\nFor example, when doing 'df[col].method(value, inplace=True)', try using 'df.method({col: value}, inplace=True)' or df[col] = df[col].method(value) instead, to perform the operation inplace on the original object.\n\n\n  return data[col].fillna(data[col].mode()[0],inplace=True)\n",
          "output_type": "stream"
        }
      ]
    },
    {
      "cell_type": "code",
      "source": [
        "train_data.isna().sum()"
      ],
      "metadata": {
        "execution": {
          "iopub.status.busy": "2024-08-14T17:18:40.392293Z",
          "iopub.execute_input": "2024-08-14T17:18:40.392642Z",
          "iopub.status.idle": "2024-08-14T17:18:43.039362Z",
          "shell.execute_reply.started": "2024-08-14T17:18:40.392611Z",
          "shell.execute_reply": "2024-08-14T17:18:43.038106Z"
        },
        "trusted": true,
        "id": "r-imT8bZxfv2",
        "outputId": "e0f9b287-52ba-44f5-9336-0c61b7d4e0bb"
      },
      "execution_count": null,
      "outputs": [
        {
          "execution_count": 14,
          "output_type": "execute_result",
          "data": {
            "text/plain": "id                      0\nclass                   0\ncap-diameter            0\ncap-shape               0\ncap-surface             0\ncap-color               0\ndoes-bruise-or-bleed    0\ngill-attachment         0\ngill-spacing            0\ngill-color              0\nstem-height             0\nstem-width              0\nstem-root               0\nstem-surface            0\nstem-color              0\nveil-type               0\nveil-color              0\nhas-ring                0\nring-type               0\nspore-print-color       0\nhabitat                 0\nseason                  0\ndtype: int64"
          },
          "metadata": {}
        }
      ]
    },
    {
      "cell_type": "code",
      "source": [
        "print(train_data['cap-diameter'].dtypes == 'float64')"
      ],
      "metadata": {
        "execution": {
          "iopub.status.busy": "2024-08-14T17:18:43.040570Z",
          "iopub.execute_input": "2024-08-14T17:18:43.040920Z",
          "iopub.status.idle": "2024-08-14T17:18:43.046623Z",
          "shell.execute_reply.started": "2024-08-14T17:18:43.040890Z",
          "shell.execute_reply": "2024-08-14T17:18:43.045385Z"
        },
        "trusted": true,
        "id": "Hmrg0ePhxfv2",
        "outputId": "fd79f211-a55a-48db-ff1e-a38cdbdbd41a"
      },
      "execution_count": null,
      "outputs": [
        {
          "name": "stdout",
          "text": "True\n",
          "output_type": "stream"
        }
      ]
    },
    {
      "cell_type": "code",
      "source": [
        "train_data.loc[0,'cap-diameter']"
      ],
      "metadata": {
        "execution": {
          "iopub.status.busy": "2024-08-14T17:18:43.048389Z",
          "iopub.execute_input": "2024-08-14T17:18:43.048802Z",
          "iopub.status.idle": "2024-08-14T17:18:43.066535Z",
          "shell.execute_reply.started": "2024-08-14T17:18:43.048765Z",
          "shell.execute_reply": "2024-08-14T17:18:43.065412Z"
        },
        "trusted": true,
        "id": "D9A9-e9_xfv2",
        "outputId": "7307dc73-15ab-430e-97b3-a2034c8573a9"
      },
      "execution_count": null,
      "outputs": [
        {
          "execution_count": 16,
          "output_type": "execute_result",
          "data": {
            "text/plain": "8.8"
          },
          "metadata": {}
        }
      ]
    },
    {
      "cell_type": "code",
      "source": [
        "# for j in range(len(train_data['veil-color'].values)):\n",
        "#     if isinstance(train_data['veil-color'].values[j],int) or isinstance(train_data['veil-color'].values[j],float):\n",
        "#         print(train_data['veil-color'].values[j])"
      ],
      "metadata": {
        "execution": {
          "iopub.status.busy": "2024-08-14T17:18:43.068596Z",
          "iopub.execute_input": "2024-08-14T17:18:43.069156Z",
          "iopub.status.idle": "2024-08-14T17:18:43.076706Z",
          "shell.execute_reply.started": "2024-08-14T17:18:43.069107Z",
          "shell.execute_reply": "2024-08-14T17:18:43.074949Z"
        },
        "trusted": true,
        "id": "OgAxrw_mxfv2"
      },
      "execution_count": null,
      "outputs": []
    },
    {
      "cell_type": "code",
      "source": [
        "with np.nditer(train_data['veil-color'].values, flags=['refs_ok']) as it:\n",
        "    for n1 in it:\n",
        "        if isinstance(n1.item(), int) or isinstance(n1.item(), float):\n",
        "            print(n1.item())"
      ],
      "metadata": {
        "execution": {
          "iopub.status.busy": "2024-08-14T17:18:43.078629Z",
          "iopub.execute_input": "2024-08-14T17:18:43.079161Z",
          "iopub.status.idle": "2024-08-14T17:18:45.098410Z",
          "shell.execute_reply.started": "2024-08-14T17:18:43.079105Z",
          "shell.execute_reply": "2024-08-14T17:18:45.097205Z"
        },
        "trusted": true,
        "id": "vmVhs65qxfv2",
        "outputId": "4dfc6029-97e1-47dc-9725-56b9e45da651"
      },
      "execution_count": null,
      "outputs": [
        {
          "name": "stdout",
          "text": "8.25\n2.49\n3.32\n",
          "output_type": "stream"
        }
      ]
    },
    {
      "cell_type": "code",
      "source": [
        "def value_exchange():\n",
        "    arr = train_data['veil-color'].values\n",
        "    with np.nditer(arr, flags=['refs_ok']) as it:\n",
        "        for n1 in it:\n",
        "            if isinstance(n1.item(), int) or isinstance(n1.item(), float):\n",
        "                print(n1.item())\n",
        "value_exchange()"
      ],
      "metadata": {
        "execution": {
          "iopub.status.busy": "2024-08-14T17:18:45.099744Z",
          "iopub.execute_input": "2024-08-14T17:18:45.100124Z",
          "iopub.status.idle": "2024-08-14T17:18:46.496333Z",
          "shell.execute_reply.started": "2024-08-14T17:18:45.100092Z",
          "shell.execute_reply": "2024-08-14T17:18:46.494890Z"
        },
        "trusted": true,
        "id": "5sg56UyDxfv3",
        "outputId": "37fd040b-1088-4bbc-f856-113cf7427fdf"
      },
      "execution_count": null,
      "outputs": [
        {
          "name": "stdout",
          "text": "8.25\n2.49\n3.32\n",
          "output_type": "stream"
        }
      ]
    },
    {
      "cell_type": "code",
      "source": [
        "def label_encode(data,col):\n",
        "    vals = list(data[col].unique())\n",
        "    arr = data[col].values\n",
        "    k = 0.0\n",
        "    d = {}\n",
        "    for i in range(len(vals)):\n",
        "        if not isinstance(vals[i],int) and not isinstance(vals[i],float):\n",
        "            d[vals[i]] = k\n",
        "            k+=1\n",
        "\n",
        "    with np.nditer(arr, flags=['refs_ok']) as it:\n",
        "        for j,n1 in enumerate(it):\n",
        "            if not isinstance(n1.item(), int) and not isinstance(n1.item(), float):\n",
        "                arr[j] = float(d[n1.item()])\n",
        "            else:\n",
        "                continue\n",
        "    data[col] = pd.DataFrame(arr,columns=[col],dtype=np.float64)\n",
        "    return data[col]\n",
        "\n",
        "for x_col1 in train_data.drop(columns=['id','cap-diameter']).columns:\n",
        "    train_data[x_col1] = label_encode(train_data,x_col1)"
      ],
      "metadata": {
        "execution": {
          "iopub.status.busy": "2024-08-14T17:18:46.497690Z",
          "iopub.execute_input": "2024-08-14T17:18:46.498072Z",
          "iopub.status.idle": "2024-08-14T17:19:30.757940Z",
          "shell.execute_reply.started": "2024-08-14T17:18:46.498032Z",
          "shell.execute_reply": "2024-08-14T17:19:30.756761Z"
        },
        "trusted": true,
        "id": "nPjlkBXwxfv3"
      },
      "execution_count": null,
      "outputs": []
    },
    {
      "cell_type": "code",
      "source": [
        "for x_col2 in test_data.drop(columns=['id','cap-diameter']).columns:\n",
        "    label_encode(test_data,x_col2)"
      ],
      "metadata": {
        "execution": {
          "iopub.status.busy": "2024-08-14T17:19:30.759616Z",
          "iopub.execute_input": "2024-08-14T17:19:30.760628Z",
          "iopub.status.idle": "2024-08-14T17:19:58.444139Z",
          "shell.execute_reply.started": "2024-08-14T17:19:30.760588Z",
          "shell.execute_reply": "2024-08-14T17:19:58.442915Z"
        },
        "trusted": true,
        "id": "tUfoJEgQxfv3"
      },
      "execution_count": null,
      "outputs": []
    },
    {
      "cell_type": "code",
      "source": [
        "train_data.head()"
      ],
      "metadata": {
        "execution": {
          "iopub.status.busy": "2024-08-14T17:19:58.445578Z",
          "iopub.execute_input": "2024-08-14T17:19:58.446037Z",
          "iopub.status.idle": "2024-08-14T17:19:58.483199Z",
          "shell.execute_reply.started": "2024-08-14T17:19:58.445977Z",
          "shell.execute_reply": "2024-08-14T17:19:58.482053Z"
        },
        "trusted": true,
        "id": "ZL15RY4Pxfv3",
        "outputId": "86bd6aad-eaa6-4dbf-e208-d0ca94368d8b"
      },
      "execution_count": null,
      "outputs": [
        {
          "execution_count": 22,
          "output_type": "execute_result",
          "data": {
            "text/plain": "   id  class  cap-diameter  cap-shape  cap-surface  cap-color  \\\n0   0    0.0          8.80        0.0          0.0        0.0   \n1   1    1.0          4.51        1.0          1.0        1.0   \n2   2    0.0          6.94        0.0          0.0        2.0   \n3   3    0.0          3.88        0.0          2.0        3.0   \n4   4    0.0          5.85        1.0          3.0        4.0   \n\n   does-bruise-or-bleed  gill-attachment  gill-spacing  gill-color  ...  \\\n0                   0.0              0.0           0.0         0.0  ...   \n1                   0.0              0.0           0.0         1.0  ...   \n2                   0.0              1.0           0.0         0.0  ...   \n3                   0.0              2.0           0.0         2.0  ...   \n4                   0.0              3.0           0.0         0.0  ...   \n\n   stem-root  stem-surface  stem-color  veil-type  veil-color  has-ring  \\\n0        0.0           0.0         0.0        0.0         0.0       0.0   \n1        0.0           1.0         1.0        0.0         0.0       1.0   \n2        0.0           0.0         2.0        0.0         0.0       0.0   \n3        0.0           0.0         0.0        0.0         0.0       0.0   \n4        0.0           0.0         0.0        0.0         0.0       0.0   \n\n   ring-type  spore-print-color  habitat  season  \n0        0.0                0.0      0.0     0.0  \n1        1.0                0.0      0.0     1.0  \n2        0.0                0.0      1.0     1.0  \n3        0.0                0.0      0.0     2.0  \n4        0.0                0.0      2.0     0.0  \n\n[5 rows x 22 columns]",
            "text/html": "<div>\n<style scoped>\n    .dataframe tbody tr th:only-of-type {\n        vertical-align: middle;\n    }\n\n    .dataframe tbody tr th {\n        vertical-align: top;\n    }\n\n    .dataframe thead th {\n        text-align: right;\n    }\n</style>\n<table border=\"1\" class=\"dataframe\">\n  <thead>\n    <tr style=\"text-align: right;\">\n      <th></th>\n      <th>id</th>\n      <th>class</th>\n      <th>cap-diameter</th>\n      <th>cap-shape</th>\n      <th>cap-surface</th>\n      <th>cap-color</th>\n      <th>does-bruise-or-bleed</th>\n      <th>gill-attachment</th>\n      <th>gill-spacing</th>\n      <th>gill-color</th>\n      <th>...</th>\n      <th>stem-root</th>\n      <th>stem-surface</th>\n      <th>stem-color</th>\n      <th>veil-type</th>\n      <th>veil-color</th>\n      <th>has-ring</th>\n      <th>ring-type</th>\n      <th>spore-print-color</th>\n      <th>habitat</th>\n      <th>season</th>\n    </tr>\n  </thead>\n  <tbody>\n    <tr>\n      <th>0</th>\n      <td>0</td>\n      <td>0.0</td>\n      <td>8.80</td>\n      <td>0.0</td>\n      <td>0.0</td>\n      <td>0.0</td>\n      <td>0.0</td>\n      <td>0.0</td>\n      <td>0.0</td>\n      <td>0.0</td>\n      <td>...</td>\n      <td>0.0</td>\n      <td>0.0</td>\n      <td>0.0</td>\n      <td>0.0</td>\n      <td>0.0</td>\n      <td>0.0</td>\n      <td>0.0</td>\n      <td>0.0</td>\n      <td>0.0</td>\n      <td>0.0</td>\n    </tr>\n    <tr>\n      <th>1</th>\n      <td>1</td>\n      <td>1.0</td>\n      <td>4.51</td>\n      <td>1.0</td>\n      <td>1.0</td>\n      <td>1.0</td>\n      <td>0.0</td>\n      <td>0.0</td>\n      <td>0.0</td>\n      <td>1.0</td>\n      <td>...</td>\n      <td>0.0</td>\n      <td>1.0</td>\n      <td>1.0</td>\n      <td>0.0</td>\n      <td>0.0</td>\n      <td>1.0</td>\n      <td>1.0</td>\n      <td>0.0</td>\n      <td>0.0</td>\n      <td>1.0</td>\n    </tr>\n    <tr>\n      <th>2</th>\n      <td>2</td>\n      <td>0.0</td>\n      <td>6.94</td>\n      <td>0.0</td>\n      <td>0.0</td>\n      <td>2.0</td>\n      <td>0.0</td>\n      <td>1.0</td>\n      <td>0.0</td>\n      <td>0.0</td>\n      <td>...</td>\n      <td>0.0</td>\n      <td>0.0</td>\n      <td>2.0</td>\n      <td>0.0</td>\n      <td>0.0</td>\n      <td>0.0</td>\n      <td>0.0</td>\n      <td>0.0</td>\n      <td>1.0</td>\n      <td>1.0</td>\n    </tr>\n    <tr>\n      <th>3</th>\n      <td>3</td>\n      <td>0.0</td>\n      <td>3.88</td>\n      <td>0.0</td>\n      <td>2.0</td>\n      <td>3.0</td>\n      <td>0.0</td>\n      <td>2.0</td>\n      <td>0.0</td>\n      <td>2.0</td>\n      <td>...</td>\n      <td>0.0</td>\n      <td>0.0</td>\n      <td>0.0</td>\n      <td>0.0</td>\n      <td>0.0</td>\n      <td>0.0</td>\n      <td>0.0</td>\n      <td>0.0</td>\n      <td>0.0</td>\n      <td>2.0</td>\n    </tr>\n    <tr>\n      <th>4</th>\n      <td>4</td>\n      <td>0.0</td>\n      <td>5.85</td>\n      <td>1.0</td>\n      <td>3.0</td>\n      <td>4.0</td>\n      <td>0.0</td>\n      <td>3.0</td>\n      <td>0.0</td>\n      <td>0.0</td>\n      <td>...</td>\n      <td>0.0</td>\n      <td>0.0</td>\n      <td>0.0</td>\n      <td>0.0</td>\n      <td>0.0</td>\n      <td>0.0</td>\n      <td>0.0</td>\n      <td>0.0</td>\n      <td>2.0</td>\n      <td>0.0</td>\n    </tr>\n  </tbody>\n</table>\n<p>5 rows × 22 columns</p>\n</div>"
          },
          "metadata": {}
        }
      ]
    },
    {
      "cell_type": "code",
      "source": [
        "train_data['cap-shape']"
      ],
      "metadata": {
        "execution": {
          "iopub.status.busy": "2024-08-14T17:19:58.484513Z",
          "iopub.execute_input": "2024-08-14T17:19:58.484910Z",
          "iopub.status.idle": "2024-08-14T17:19:58.494230Z",
          "shell.execute_reply.started": "2024-08-14T17:19:58.484879Z",
          "shell.execute_reply": "2024-08-14T17:19:58.492934Z"
        },
        "trusted": true,
        "id": "81K0nyBixfv5",
        "outputId": "c98b8610-498c-4470-b385-8e6cc3139e5e"
      },
      "execution_count": null,
      "outputs": [
        {
          "execution_count": 23,
          "output_type": "execute_result",
          "data": {
            "text/plain": "0          0.0\n1          1.0\n2          0.0\n3          0.0\n4          1.0\n          ... \n3116940    0.0\n3116941    6.0\n3116942    1.0\n3116943    2.0\n3116944    1.0\nName: cap-shape, Length: 3116945, dtype: float64"
          },
          "metadata": {}
        }
      ]
    },
    {
      "cell_type": "code",
      "source": [
        "type(train_data.loc[0,'cap-shape'])"
      ],
      "metadata": {
        "execution": {
          "iopub.status.busy": "2024-08-14T17:19:58.495701Z",
          "iopub.execute_input": "2024-08-14T17:19:58.496098Z",
          "iopub.status.idle": "2024-08-14T17:19:58.509364Z",
          "shell.execute_reply.started": "2024-08-14T17:19:58.496060Z",
          "shell.execute_reply": "2024-08-14T17:19:58.508187Z"
        },
        "trusted": true,
        "id": "8qH3zUhUxfv5",
        "outputId": "8ec9061d-be49-41a8-acf9-2f092483f30f"
      },
      "execution_count": null,
      "outputs": [
        {
          "execution_count": 24,
          "output_type": "execute_result",
          "data": {
            "text/plain": "numpy.float64"
          },
          "metadata": {}
        }
      ]
    },
    {
      "cell_type": "code",
      "source": [
        "X_train,X_test,Y_train,Y_test = train_test_split(train_data.drop(columns=['id','class']),train_data['class'],test_size=0.3,random_state=0)"
      ],
      "metadata": {
        "execution": {
          "iopub.status.busy": "2024-08-14T17:19:58.510704Z",
          "iopub.execute_input": "2024-08-14T17:19:58.511070Z",
          "iopub.status.idle": "2024-08-14T17:20:00.360455Z",
          "shell.execute_reply.started": "2024-08-14T17:19:58.511040Z",
          "shell.execute_reply": "2024-08-14T17:20:00.359359Z"
        },
        "trusted": true,
        "id": "szXeI3_8xfv5"
      },
      "execution_count": null,
      "outputs": []
    },
    {
      "cell_type": "code",
      "source": [
        "X_train = X_train.to_numpy()\n",
        "Y_train = Y_train.to_numpy()\n",
        "X_test = X_test.to_numpy()\n",
        "Y_test = Y_test.to_numpy()"
      ],
      "metadata": {
        "execution": {
          "iopub.status.busy": "2024-08-14T17:20:00.361734Z",
          "iopub.execute_input": "2024-08-14T17:20:00.362095Z",
          "iopub.status.idle": "2024-08-14T17:20:00.481553Z",
          "shell.execute_reply.started": "2024-08-14T17:20:00.362067Z",
          "shell.execute_reply": "2024-08-14T17:20:00.480283Z"
        },
        "trusted": true,
        "id": "MqP4r_6Wxfv5"
      },
      "execution_count": null,
      "outputs": []
    },
    {
      "cell_type": "code",
      "source": [
        "Y_test"
      ],
      "metadata": {
        "execution": {
          "iopub.status.busy": "2024-08-14T17:20:00.483111Z",
          "iopub.execute_input": "2024-08-14T17:20:00.483572Z",
          "iopub.status.idle": "2024-08-14T17:20:00.492172Z",
          "shell.execute_reply.started": "2024-08-14T17:20:00.483531Z",
          "shell.execute_reply": "2024-08-14T17:20:00.490690Z"
        },
        "trusted": true,
        "id": "9fQUfOhyxfv6",
        "outputId": "98cf73b9-9bb2-4699-e6de-49be25f4d97d"
      },
      "execution_count": null,
      "outputs": [
        {
          "execution_count": 27,
          "output_type": "execute_result",
          "data": {
            "text/plain": "array([1., 0., 0., ..., 1., 1., 0.])"
          },
          "metadata": {}
        }
      ]
    },
    {
      "cell_type": "code",
      "source": [
        "train_data.shape"
      ],
      "metadata": {
        "execution": {
          "iopub.status.busy": "2024-08-14T17:20:00.498821Z",
          "iopub.execute_input": "2024-08-14T17:20:00.499585Z",
          "iopub.status.idle": "2024-08-14T17:20:00.509710Z",
          "shell.execute_reply.started": "2024-08-14T17:20:00.499544Z",
          "shell.execute_reply": "2024-08-14T17:20:00.508336Z"
        },
        "trusted": true,
        "id": "c0134zPqxfv6",
        "outputId": "345434b2-7ce8-4cf9-c41c-8849b92dd04c"
      },
      "execution_count": null,
      "outputs": [
        {
          "execution_count": 28,
          "output_type": "execute_result",
          "data": {
            "text/plain": "(3116945, 22)"
          },
          "metadata": {}
        }
      ]
    },
    {
      "cell_type": "code",
      "source": [
        "X_train.shape"
      ],
      "metadata": {
        "execution": {
          "iopub.status.busy": "2024-08-14T17:20:00.511339Z",
          "iopub.execute_input": "2024-08-14T17:20:00.511791Z",
          "iopub.status.idle": "2024-08-14T17:20:00.527255Z",
          "shell.execute_reply.started": "2024-08-14T17:20:00.511738Z",
          "shell.execute_reply": "2024-08-14T17:20:00.525792Z"
        },
        "trusted": true,
        "id": "W9NJK0WIxfv6",
        "outputId": "f939d1ac-db2a-49d7-8050-da448c4fb03f"
      },
      "execution_count": null,
      "outputs": [
        {
          "execution_count": 29,
          "output_type": "execute_result",
          "data": {
            "text/plain": "(2181861, 20)"
          },
          "metadata": {}
        }
      ]
    },
    {
      "cell_type": "code",
      "source": [
        "class MushroomClassifier(Model):\n",
        "    def __init__(self):\n",
        "        super().__init__()\n",
        "#         self.layer1 = Dense(22,activation=\"relu\")\n",
        "#         self.batchNorm = BatchNormalization()\n",
        "#         self.layer2 = Dense(22,activation=\"relu\")\n",
        "#         self.layer3 = Dense(22,activation=\"relu\")\n",
        "#         self.final_layer = Dense(1,activation=\"softmax\")\n",
        "\n",
        "        self.layer1 = Sequential([\n",
        "                        Input(shape=(20,),dtype=np.float64),\n",
        "                        Dense(20,activation='relu'),\n",
        "                        Dense(10,activation='relu'),\n",
        "                        Dense(10,activation='relu'),\n",
        "                        Dense(2,activation='relu'),\n",
        "                        Flatten(),\n",
        "                        Dense(1,activation='sigmoid')])\n",
        "\n",
        "    def call(self,x,training):\n",
        "        return self.layer1(x)\n",
        "\n",
        "\n",
        "# class MushroomModel(Model):\n",
        "#     def __init__(self,model):\n",
        "#         self.mode\n",
        "\n",
        "m_model = MushroomClassifier()\n",
        "print(m_model.summary())"
      ],
      "metadata": {
        "execution": {
          "iopub.status.busy": "2024-08-14T17:20:00.529135Z",
          "iopub.execute_input": "2024-08-14T17:20:00.529591Z",
          "iopub.status.idle": "2024-08-14T17:20:00.671151Z",
          "shell.execute_reply.started": "2024-08-14T17:20:00.529551Z",
          "shell.execute_reply": "2024-08-14T17:20:00.669617Z"
        },
        "trusted": true,
        "id": "g8KwFwRMxfv6",
        "outputId": "f3568dfc-5143-49fb-a641-cdff78dcb9b1"
      },
      "execution_count": null,
      "outputs": [
        {
          "output_type": "display_data",
          "data": {
            "text/plain": "\u001b[1mModel: \"mushroom_classifier\"\u001b[0m\n",
            "text/html": "<pre style=\"white-space:pre;overflow-x:auto;line-height:normal;font-family:Menlo,'DejaVu Sans Mono',consolas,'Courier New',monospace\"><span style=\"font-weight: bold\">Model: \"mushroom_classifier\"</span>\n</pre>\n"
          },
          "metadata": {}
        },
        {
          "output_type": "display_data",
          "data": {
            "text/plain": "┏━━━━━━━━━━━━━━━━━━━━━━━━━━━━━━━━━┳━━━━━━━━━━━━━━━━━━━━━━━━┳━━━━━━━━━━━━━━━┓\n┃\u001b[1m \u001b[0m\u001b[1mLayer (type)                   \u001b[0m\u001b[1m \u001b[0m┃\u001b[1m \u001b[0m\u001b[1mOutput Shape          \u001b[0m\u001b[1m \u001b[0m┃\u001b[1m \u001b[0m\u001b[1m      Param #\u001b[0m\u001b[1m \u001b[0m┃\n┡━━━━━━━━━━━━━━━━━━━━━━━━━━━━━━━━━╇━━━━━━━━━━━━━━━━━━━━━━━━╇━━━━━━━━━━━━━━━┩\n│ sequential (\u001b[38;5;33mSequential\u001b[0m)         │ (\u001b[38;5;45mNone\u001b[0m, \u001b[38;5;34m1\u001b[0m)              │           \u001b[38;5;34m765\u001b[0m │\n└─────────────────────────────────┴────────────────────────┴───────────────┘\n",
            "text/html": "<pre style=\"white-space:pre;overflow-x:auto;line-height:normal;font-family:Menlo,'DejaVu Sans Mono',consolas,'Courier New',monospace\">┏━━━━━━━━━━━━━━━━━━━━━━━━━━━━━━━━━┳━━━━━━━━━━━━━━━━━━━━━━━━┳━━━━━━━━━━━━━━━┓\n┃<span style=\"font-weight: bold\"> Layer (type)                    </span>┃<span style=\"font-weight: bold\"> Output Shape           </span>┃<span style=\"font-weight: bold\">       Param # </span>┃\n┡━━━━━━━━━━━━━━━━━━━━━━━━━━━━━━━━━╇━━━━━━━━━━━━━━━━━━━━━━━━╇━━━━━━━━━━━━━━━┩\n│ sequential (<span style=\"color: #0087ff; text-decoration-color: #0087ff\">Sequential</span>)         │ (<span style=\"color: #00d7ff; text-decoration-color: #00d7ff\">None</span>, <span style=\"color: #00af00; text-decoration-color: #00af00\">1</span>)              │           <span style=\"color: #00af00; text-decoration-color: #00af00\">765</span> │\n└─────────────────────────────────┴────────────────────────┴───────────────┘\n</pre>\n"
          },
          "metadata": {}
        },
        {
          "output_type": "display_data",
          "data": {
            "text/plain": "\u001b[1m Total params: \u001b[0m\u001b[38;5;34m765\u001b[0m (2.99 KB)\n",
            "text/html": "<pre style=\"white-space:pre;overflow-x:auto;line-height:normal;font-family:Menlo,'DejaVu Sans Mono',consolas,'Courier New',monospace\"><span style=\"font-weight: bold\"> Total params: </span><span style=\"color: #00af00; text-decoration-color: #00af00\">765</span> (2.99 KB)\n</pre>\n"
          },
          "metadata": {}
        },
        {
          "output_type": "display_data",
          "data": {
            "text/plain": "\u001b[1m Trainable params: \u001b[0m\u001b[38;5;34m765\u001b[0m (2.99 KB)\n",
            "text/html": "<pre style=\"white-space:pre;overflow-x:auto;line-height:normal;font-family:Menlo,'DejaVu Sans Mono',consolas,'Courier New',monospace\"><span style=\"font-weight: bold\"> Trainable params: </span><span style=\"color: #00af00; text-decoration-color: #00af00\">765</span> (2.99 KB)\n</pre>\n"
          },
          "metadata": {}
        },
        {
          "output_type": "display_data",
          "data": {
            "text/plain": "\u001b[1m Non-trainable params: \u001b[0m\u001b[38;5;34m0\u001b[0m (0.00 B)\n",
            "text/html": "<pre style=\"white-space:pre;overflow-x:auto;line-height:normal;font-family:Menlo,'DejaVu Sans Mono',consolas,'Courier New',monospace\"><span style=\"font-weight: bold\"> Non-trainable params: </span><span style=\"color: #00af00; text-decoration-color: #00af00\">0</span> (0.00 B)\n</pre>\n"
          },
          "metadata": {}
        },
        {
          "name": "stdout",
          "text": "None\n",
          "output_type": "stream"
        }
      ]
    },
    {
      "cell_type": "code",
      "source": [
        "tf.constant(X_train)\n",
        "tf.constant([[1,2,3],[4,5,6]])"
      ],
      "metadata": {
        "execution": {
          "iopub.status.busy": "2024-08-14T17:20:00.673038Z",
          "iopub.execute_input": "2024-08-14T17:20:00.673510Z",
          "iopub.status.idle": "2024-08-14T17:20:01.226660Z",
          "shell.execute_reply.started": "2024-08-14T17:20:00.673470Z",
          "shell.execute_reply": "2024-08-14T17:20:01.225424Z"
        },
        "trusted": true,
        "id": "IWwUujAOxfv6",
        "outputId": "fa6bac93-8cf6-407d-a959-f7bea156623e"
      },
      "execution_count": null,
      "outputs": [
        {
          "execution_count": 31,
          "output_type": "execute_result",
          "data": {
            "text/plain": "<tf.Tensor: shape=(2, 3), dtype=int32, numpy=\narray([[1, 2, 3],\n       [4, 5, 6]], dtype=int32)>"
          },
          "metadata": {}
        }
      ]
    },
    {
      "cell_type": "code",
      "source": [
        "from tensorflow.keras import backend as k\n",
        "from keras.src import ops\n",
        "from keras.src.losses.loss import squeeze_or_expand_to_same_rank\n",
        "class MCCLoss(Loss):\n",
        "    def __init__(self):\n",
        "        super().__init__()\n",
        "\n",
        "    def call(self,y_true,y_pred):\n",
        "#         y_pred = tf.round(tf.clip_by_value(y_pred, 0, 1))\n",
        "\n",
        "        # Convert to float tensors\n",
        "        y_true = tf.cast(y_true, tf.float32)\n",
        "        y_pred = tf.cast(y_pred, tf.float32)\n",
        "\n",
        "        # Calculate the confusion matrix elements\n",
        "        tp = tf.reduce_sum(tf.cast(y_true * y_pred, tf.float32))\n",
        "        tn = tf.reduce_sum(tf.cast((1 - y_true) * (1 - y_pred), tf.float32))\n",
        "        fp = tf.reduce_sum(tf.cast((1 - y_true) * y_pred, tf.float32))\n",
        "        fn = tf.reduce_sum(tf.cast(y_true * (1 - y_pred), tf.float32))\n",
        "\n",
        "        # Calculate MCC\n",
        "        numerator = (tp * tn) - (fp * fn)\n",
        "        denominator = tf.sqrt((tp + fp) * (tp + fn) * (tn + fp) * (tn + fn))\n",
        "\n",
        "        mcc = tf.where(tf.equal(denominator, 0), 0.0, numerator / denominator)\n",
        "\n",
        "        return mcc"
      ],
      "metadata": {
        "execution": {
          "iopub.status.busy": "2024-08-14T17:20:01.227956Z",
          "iopub.execute_input": "2024-08-14T17:20:01.228326Z",
          "iopub.status.idle": "2024-08-14T17:20:01.237514Z",
          "shell.execute_reply.started": "2024-08-14T17:20:01.228296Z",
          "shell.execute_reply": "2024-08-14T17:20:01.236274Z"
        },
        "trusted": true,
        "id": "l5FviyCdxfv7"
      },
      "execution_count": null,
      "outputs": []
    },
    {
      "cell_type": "code",
      "source": [
        "m_model.compile(loss=MCCLoss(),optimizer=SGD(),metrics=[\"acc\"])"
      ],
      "metadata": {
        "execution": {
          "iopub.status.busy": "2024-08-14T17:20:01.239162Z",
          "iopub.execute_input": "2024-08-14T17:20:01.239885Z",
          "iopub.status.idle": "2024-08-14T17:20:01.268278Z",
          "shell.execute_reply.started": "2024-08-14T17:20:01.239844Z",
          "shell.execute_reply": "2024-08-14T17:20:01.266832Z"
        },
        "trusted": true,
        "id": "dqNr_X1Pxfv7"
      },
      "execution_count": null,
      "outputs": []
    },
    {
      "cell_type": "code",
      "source": [
        "Y_train"
      ],
      "metadata": {
        "execution": {
          "iopub.status.busy": "2024-08-14T17:20:01.270751Z",
          "iopub.execute_input": "2024-08-14T17:20:01.271237Z",
          "iopub.status.idle": "2024-08-14T17:20:01.280044Z",
          "shell.execute_reply.started": "2024-08-14T17:20:01.271197Z",
          "shell.execute_reply": "2024-08-14T17:20:01.278181Z"
        },
        "trusted": true,
        "id": "dcMu-Ofgxfv7",
        "outputId": "912ead6a-ab1e-4009-c4a9-baa0a498e054"
      },
      "execution_count": null,
      "outputs": [
        {
          "execution_count": 34,
          "output_type": "execute_result",
          "data": {
            "text/plain": "array([1., 1., 0., ..., 1., 1., 0.])"
          },
          "metadata": {}
        }
      ]
    },
    {
      "cell_type": "code",
      "source": [
        "m_model.fit(tf.constant(X_train),tf.constant(Y_train),verbose=1,epochs=10)"
      ],
      "metadata": {
        "execution": {
          "iopub.status.busy": "2024-08-14T17:20:14.512038Z",
          "iopub.execute_input": "2024-08-14T17:20:14.512451Z"
        },
        "trusted": true,
        "id": "WsCgR-xGxfv8",
        "outputId": "4461ed97-b859-4c80-9b2b-95f512cbad8d"
      },
      "execution_count": null,
      "outputs": [
        {
          "name": "stdout",
          "text": "Epoch 1/10\n\u001b[1m68184/68184\u001b[0m \u001b[32m━━━━━━━━━━━━━━━━━━━━\u001b[0m\u001b[37m\u001b[0m \u001b[1m97s\u001b[0m 1ms/step - acc: 0.4610 - loss: 6.8800e-11\nEpoch 2/10\n\u001b[1m25332/68184\u001b[0m \u001b[32m━━━━━━━\u001b[0m\u001b[37m━━━━━━━━━━━━━\u001b[0m \u001b[1m1:01\u001b[0m 1ms/step - acc: 0.4607 - loss: 9.4282e-11",
          "output_type": "stream"
        }
      ]
    },
    {
      "cell_type": "code",
      "source": [
        "preds = m_model.predict(test_data.drop(columns='id').to_numpy())"
      ],
      "metadata": {
        "execution": {
          "iopub.status.busy": "2024-08-14T17:20:02.511317Z",
          "iopub.status.idle": "2024-08-14T17:20:02.511851Z",
          "shell.execute_reply.started": "2024-08-14T17:20:02.511601Z",
          "shell.execute_reply": "2024-08-14T17:20:02.511627Z"
        },
        "trusted": true,
        "id": "ijD0hwTSxfv9"
      },
      "execution_count": null,
      "outputs": []
    },
    {
      "cell_type": "code",
      "source": [
        "preds"
      ],
      "metadata": {
        "execution": {
          "iopub.status.busy": "2024-08-14T17:20:02.514056Z",
          "iopub.status.idle": "2024-08-14T17:20:02.514496Z",
          "shell.execute_reply.started": "2024-08-14T17:20:02.514299Z",
          "shell.execute_reply": "2024-08-14T17:20:02.514316Z"
        },
        "trusted": true,
        "id": "Tj65MXCZxfv9"
      },
      "execution_count": null,
      "outputs": []
    },
    {
      "cell_type": "code",
      "source": [
        "# with np.nditer(arr, flags=['refs_ok']) as it:\n",
        "#     for"
      ],
      "metadata": {
        "execution": {
          "iopub.status.busy": "2024-08-14T17:20:02.515879Z",
          "iopub.status.idle": "2024-08-14T17:20:02.516330Z",
          "shell.execute_reply.started": "2024-08-14T17:20:02.516131Z",
          "shell.execute_reply": "2024-08-14T17:20:02.516149Z"
        },
        "trusted": true,
        "id": "SurRPBrLxfv9"
      },
      "execution_count": null,
      "outputs": []
    },
    {
      "cell_type": "code",
      "source": [
        "# final_output = pd.concat([pd.DataFrame(test_data['id']),pd.DataFrame(preds)],axis=1,ignore_index=True)"
      ],
      "metadata": {
        "execution": {
          "iopub.status.busy": "2024-08-14T17:20:02.518021Z",
          "iopub.status.idle": "2024-08-14T17:20:02.518443Z",
          "shell.execute_reply.started": "2024-08-14T17:20:02.518258Z",
          "shell.execute_reply": "2024-08-14T17:20:02.518274Z"
        },
        "trusted": true,
        "id": "xITMTES8xfv9"
      },
      "execution_count": null,
      "outputs": []
    },
    {
      "cell_type": "code",
      "source": [],
      "metadata": {
        "id": "agLTiyKMxfv-"
      },
      "execution_count": null,
      "outputs": []
    }
  ]
}